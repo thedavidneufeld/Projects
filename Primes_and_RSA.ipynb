{
  "nbformat": 4,
  "nbformat_minor": 0,
  "metadata": {
    "colab": {
      "provenance": [],
      "authorship_tag": "ABX9TyMQrR+vwDUam7OOj8wDxEvP",
      "include_colab_link": true
    },
    "kernelspec": {
      "name": "python3",
      "display_name": "Python 3"
    },
    "language_info": {
      "name": "python"
    }
  },
  "cells": [
    {
      "cell_type": "markdown",
      "metadata": {
        "id": "view-in-github",
        "colab_type": "text"
      },
      "source": [
        "<a href=\"https://colab.research.google.com/github/thedavidneufeld/Projects/blob/main/Primes_and_RSA.ipynb\" target=\"_parent\"><img src=\"https://colab.research.google.com/assets/colab-badge.svg\" alt=\"Open In Colab\"/></a>"
      ]
    },
    {
      "cell_type": "markdown",
      "source": [
        "###LBED 2100 Project\n",
        "###March 22, 2024\n",
        "###David Neufeld"
      ],
      "metadata": {
        "id": "w5RYowjcfQQ3"
      }
    },
    {
      "cell_type": "markdown",
      "source": [
        "# Prime Numbers\n",
        "In order for a number $n$ to be considred **prime**, it must meet 2 criteria:\n",
        "*   $n$ is a natural number ($n\\in\\mathbb{N}$)\n",
        "*   $n$ is divisible by only 1 and itself ($n$)\n",
        " *  There is an \"exception\" to this. 1 is divisible by 1 and itself, but 1=$n$. So, in reality, 1 is only divisible by one number. Therefore, it is not prime.\n",
        "\n",
        "For the most part, any natural number which does not meet the second criteria listed here for prime numbers is **composite**. The criteria for a composite number $m$ are:\n",
        "*   $m\\in\\mathbb{N}$\n",
        "*   $m$ is divisble by at least one natural number other than 1 and itself\n",
        " *  There is an \"exception\" to this as well. 0 is divisible by *almost* any number other than itself. Then natural number which 0 is not divisible by is itself (just as **no** number is divisible by 0). Some definitions for composite numbers state that a coomposite number must be divisible by 1, itself, and another natural number. Other definitions just state that the number must be divisible by a natural number other than 1 and itself. Regardless, it is widely accepted that 0 is **not** composite.\n",
        "\n",
        "Now, lets test some numbers to check if they are prime, composite, or neither. To do this, we will use the Python % operator. This divides a number into integers and returns the remainder. For instance $6/4=1$ with a remainder of 2 since $4*1+2=6$. Thus, we can write $6\\%4=2$. The simplest way to use this for checking if a number is prime or composite is to check the remainder of each possible division of that number (other than by 1 and itself). If any remainder is 0, then our number is evenly divisible into a natural number other than 1 and itself, and it is composite. Otherwise, it is prime (unless, of course, our number is 0 or 1)."
      ],
      "metadata": {
        "id": "LLbTXSJC0lMD"
      }
    },
    {
      "cell_type": "code",
      "source": [
        "5%4"
      ],
      "metadata": {
        "colab": {
          "base_uri": "https://localhost:8080/"
        },
        "id": "cTFOOXRTvoEh",
        "outputId": "3597ead2-d8b5-4e31-a917-aec6f1cd305f"
      },
      "execution_count": 1,
      "outputs": [
        {
          "output_type": "execute_result",
          "data": {
            "text/plain": [
              "1"
            ]
          },
          "metadata": {},
          "execution_count": 1
        }
      ]
    },
    {
      "cell_type": "code",
      "source": [
        "5%3"
      ],
      "metadata": {
        "colab": {
          "base_uri": "https://localhost:8080/"
        },
        "id": "qJ7XlpP28FrR",
        "outputId": "ffc29744-8ded-45f4-932d-b32643310bd5"
      },
      "execution_count": 2,
      "outputs": [
        {
          "output_type": "execute_result",
          "data": {
            "text/plain": [
              "2"
            ]
          },
          "metadata": {},
          "execution_count": 2
        }
      ]
    },
    {
      "cell_type": "code",
      "source": [
        "5%2"
      ],
      "metadata": {
        "colab": {
          "base_uri": "https://localhost:8080/"
        },
        "id": "v5EBWvjC8GlL",
        "outputId": "4d6583bd-ee49-477d-9e6a-da6239d23c26"
      },
      "execution_count": 3,
      "outputs": [
        {
          "output_type": "execute_result",
          "data": {
            "text/plain": [
              "1"
            ]
          },
          "metadata": {},
          "execution_count": 3
        }
      ]
    },
    {
      "cell_type": "markdown",
      "source": [
        "From the above calculations, we can see that 5 is not evenly divisible by any natural number between 1 and 5. Thus, we can conclude that 5 is prime. However, this process was quite tedious as we have to manually write out the calculations. What if we want to find out if 27 is prime or composite? We would potentially need to check 25 values to determine whether 27 is prime or not. So, here I will introduce a simple algorithm that returns the factors of any integer fed to it. This algorithm is based off of the one found here: https://www.programiz.com/python-programming/examples/factor-number."
      ],
      "metadata": {
        "id": "_iDnnn1S855E"
      }
    },
    {
      "cell_type": "code",
      "source": [
        "# function to obtain the factors of a number x\n",
        "def get_factors(x):\n",
        "  # store all factors of x in an array\n",
        "  factors = []\n",
        "  # check all natural numbers 1,..., x\n",
        "  for i in range(1, x+1):\n",
        "    # if i is a factor of x, add it to the factors array\n",
        "    if x%i==0:\n",
        "      factors.append(i)\n",
        "  # return the array of x's factors\n",
        "  return factors"
      ],
      "metadata": {
        "id": "pC6MKQj583MK"
      },
      "execution_count": 4,
      "outputs": []
    },
    {
      "cell_type": "markdown",
      "source": [
        "Using the function just defined, we can now find the factors of a number and determine for ourselves if it is prime or composite. Let's determine whether 27 is prime or composite."
      ],
      "metadata": {
        "id": "_ogXYLXH_7g5"
      }
    },
    {
      "cell_type": "code",
      "source": [
        "get_factors(27)"
      ],
      "metadata": {
        "colab": {
          "base_uri": "https://localhost:8080/"
        },
        "id": "SHSL0rQu_65E",
        "outputId": "c69c748c-2c8e-48c3-c619-ce867492d6b0"
      },
      "execution_count": 5,
      "outputs": [
        {
          "output_type": "execute_result",
          "data": {
            "text/plain": [
              "[1, 3, 9, 27]"
            ]
          },
          "metadata": {},
          "execution_count": 5
        }
      ]
    },
    {
      "cell_type": "markdown",
      "source": [
        "Let's double check."
      ],
      "metadata": {
        "id": "ulEE8BI4JQfs"
      }
    },
    {
      "cell_type": "code",
      "source": [
        "3*9"
      ],
      "metadata": {
        "colab": {
          "base_uri": "https://localhost:8080/"
        },
        "id": "zD9nTcyXJTOH",
        "outputId": "18a93afe-414a-4539-af24-00663625636e"
      },
      "execution_count": 6,
      "outputs": [
        {
          "output_type": "execute_result",
          "data": {
            "text/plain": [
              "27"
            ]
          },
          "metadata": {},
          "execution_count": 6
        }
      ]
    },
    {
      "cell_type": "markdown",
      "source": [
        "It appears that 27 has factors other than 1 and itself, so 27 is **composite**. What about 29?"
      ],
      "metadata": {
        "id": "D4FjRerbAXv4"
      }
    },
    {
      "cell_type": "code",
      "source": [
        "# try changing the number to see the factors and determine\n",
        "# whether it is prime or composite\n",
        "get_factors(29)"
      ],
      "metadata": {
        "colab": {
          "base_uri": "https://localhost:8080/"
        },
        "id": "b2eoTCmNAW3P",
        "outputId": "bf919468-90bd-449b-a8e0-2424699bb4b5"
      },
      "execution_count": 7,
      "outputs": [
        {
          "output_type": "execute_result",
          "data": {
            "text/plain": [
              "[1, 29]"
            ]
          },
          "metadata": {},
          "execution_count": 7
        }
      ]
    },
    {
      "cell_type": "markdown",
      "source": [
        "The only factors of 29 are 1 and itself. So, 29 is **prime**.\n",
        "\n",
        "Now, we don't really need to look at the factors of a number to determine if its prime or not. We can have the algorithm do that for us by changing it slightly. In this new algorithm, we will look at all possible factors of a number, but we won't store them. Instead, we will just see if the number has any factors other than 1 and itself."
      ],
      "metadata": {
        "id": "WS1R2uEwAnvO"
      }
    },
    {
      "cell_type": "code",
      "source": [
        "# function to determine if a number x is prime\n",
        "def is_prime(x):\n",
        "  # 0 and 1 are special cases, if x is 0 or 1\n",
        "  # then we know it isn't prime\n",
        "  if x==0 or x==1:\n",
        "    return False\n",
        "  # check all natural numbers 2,..., (x-1)\n",
        "  # to see if they are a factor of x\n",
        "  for i in range(2, x):\n",
        "    # if i is a factor of x, then x is not prime\n",
        "    if x%i==0:\n",
        "      return False\n",
        "  # if x has no factors 2,..., (x-1),\n",
        "  # then x is prime\n",
        "  return True"
      ],
      "metadata": {
        "id": "N_VdK9qRAlGt"
      },
      "execution_count": 8,
      "outputs": []
    },
    {
      "cell_type": "markdown",
      "source": [
        "Now, let's test this out for our previous tested 27 and 29."
      ],
      "metadata": {
        "id": "wA_3M6IKILUt"
      }
    },
    {
      "cell_type": "code",
      "source": [
        "is_prime(27)"
      ],
      "metadata": {
        "colab": {
          "base_uri": "https://localhost:8080/"
        },
        "id": "fzMSMFmEILFY",
        "outputId": "863c6030-a288-424e-dccc-e02f3a922287"
      },
      "execution_count": 9,
      "outputs": [
        {
          "output_type": "execute_result",
          "data": {
            "text/plain": [
              "False"
            ]
          },
          "metadata": {},
          "execution_count": 9
        }
      ]
    },
    {
      "cell_type": "code",
      "source": [
        "is_prime(29)"
      ],
      "metadata": {
        "colab": {
          "base_uri": "https://localhost:8080/"
        },
        "id": "Y_vuL0eqIWQK",
        "outputId": "4516f015-34c1-4e49-ce0d-e3add9ab1ff1"
      },
      "execution_count": 10,
      "outputs": [
        {
          "output_type": "execute_result",
          "data": {
            "text/plain": [
              "True"
            ]
          },
          "metadata": {},
          "execution_count": 10
        }
      ]
    },
    {
      "cell_type": "markdown",
      "source": [
        "What about 143?"
      ],
      "metadata": {
        "id": "uWZlvggjIi_V"
      }
    },
    {
      "cell_type": "code",
      "source": [
        "# try changing the value to determine\n",
        "# if other numbers are prime\n",
        "is_prime(143)"
      ],
      "metadata": {
        "colab": {
          "base_uri": "https://localhost:8080/"
        },
        "id": "z-x1wtp4Iive",
        "outputId": "40ba5e4d-3679-46c7-b862-1b43ff445470"
      },
      "execution_count": 11,
      "outputs": [
        {
          "output_type": "execute_result",
          "data": {
            "text/plain": [
              "False"
            ]
          },
          "metadata": {},
          "execution_count": 11
        }
      ]
    },
    {
      "cell_type": "markdown",
      "source": [
        "What are the factors of 143?"
      ],
      "metadata": {
        "id": "dRqnoj0-IvIk"
      }
    },
    {
      "cell_type": "code",
      "source": [
        "get_factors(143)"
      ],
      "metadata": {
        "id": "ZQABkO-cIrSv",
        "colab": {
          "base_uri": "https://localhost:8080/"
        },
        "outputId": "f41b08f1-181c-4ee1-a293-e1a985336aac"
      },
      "execution_count": 12,
      "outputs": [
        {
          "output_type": "execute_result",
          "data": {
            "text/plain": [
              "[1, 11, 13, 143]"
            ]
          },
          "metadata": {},
          "execution_count": 12
        }
      ]
    },
    {
      "cell_type": "code",
      "source": [
        "11*13"
      ],
      "metadata": {
        "colab": {
          "base_uri": "https://localhost:8080/"
        },
        "id": "rfSpWpw7JXsD",
        "outputId": "41c45dfb-7097-46cf-f339-fee9063c01ca"
      },
      "execution_count": 13,
      "outputs": [
        {
          "output_type": "execute_result",
          "data": {
            "text/plain": [
              "143"
            ]
          },
          "metadata": {},
          "execution_count": 13
        }
      ]
    },
    {
      "cell_type": "markdown",
      "source": [
        "Although this algorithm works, it can take a lot of time when given large numbers. This is especially true if the number really is prime. For instance, let's try to test the number 232,654,931 (our algorithm needs to do 232,654,929 calculations to find out that it is prime)."
      ],
      "metadata": {
        "id": "yDT4ll0ZJoKu"
      }
    },
    {
      "cell_type": "code",
      "source": [
        "is_prime(232654931)"
      ],
      "metadata": {
        "colab": {
          "base_uri": "https://localhost:8080/"
        },
        "id": "IvYeBtslKqz9",
        "outputId": "be1ee2ee-3eb4-4375-e647-20c59965f207"
      },
      "execution_count": 14,
      "outputs": [
        {
          "output_type": "execute_result",
          "data": {
            "text/plain": [
              "True"
            ]
          },
          "metadata": {},
          "execution_count": 14
        }
      ]
    },
    {
      "cell_type": "markdown",
      "source": [
        "Though it may seem that we need to check all of these numbers to be sure that our number is prime, we actually don't. Let's look at the factorization of a few numbers."
      ],
      "metadata": {
        "id": "DJ2X2W6e8A4O"
      }
    },
    {
      "cell_type": "code",
      "source": [
        "get_factors(15)"
      ],
      "metadata": {
        "colab": {
          "base_uri": "https://localhost:8080/"
        },
        "id": "AvYtxoPJDZKN",
        "outputId": "ce4ac428-ec2f-4b3f-c292-9a6f4adf88e2"
      },
      "execution_count": 15,
      "outputs": [
        {
          "output_type": "execute_result",
          "data": {
            "text/plain": [
              "[1, 3, 5, 15]"
            ]
          },
          "metadata": {},
          "execution_count": 15
        }
      ]
    },
    {
      "cell_type": "code",
      "source": [
        "get_factors(20)"
      ],
      "metadata": {
        "colab": {
          "base_uri": "https://localhost:8080/"
        },
        "id": "Y9gqXhgsDeJf",
        "outputId": "53ed8546-802a-4068-948e-972fbacc8b0c"
      },
      "execution_count": 16,
      "outputs": [
        {
          "output_type": "execute_result",
          "data": {
            "text/plain": [
              "[1, 2, 4, 5, 10, 20]"
            ]
          },
          "metadata": {},
          "execution_count": 16
        }
      ]
    },
    {
      "cell_type": "code",
      "source": [
        "get_factors(64)"
      ],
      "metadata": {
        "colab": {
          "base_uri": "https://localhost:8080/"
        },
        "id": "qNHyS0bLDh3-",
        "outputId": "295ba8d5-8fda-4dc5-f9e5-e892f0281605"
      },
      "execution_count": 17,
      "outputs": [
        {
          "output_type": "execute_result",
          "data": {
            "text/plain": [
              "[1, 2, 4, 8, 16, 32, 64]"
            ]
          },
          "metadata": {},
          "execution_count": 17
        }
      ]
    },
    {
      "cell_type": "markdown",
      "source": [
        "Notice anything about the factors? Each number has at least one factor which is less than or equal to the square root of that number. For instance:\n",
        "*   $\\sqrt{15}=3.872...\\geq3$\n",
        "*   $\\sqrt{20}=4.472...\\geq4\\geq2$\n",
        "*   $\\sqrt{64}=8\\geq8\\geq4\\geq2$\n",
        "\n",
        "These are not just carefully chosen examples. That any composite number must have at least one factor less than or equal to its square root is showcased in trial division https://www.khanacademy.org/computing/computer-science/cryptography/comp-number-theory/a/trial-division. Here, I will try to demonstrate intuitively why this is the case.\n",
        "\n",
        "Let's take a look at the number 16 and manually obtain its factors:\n",
        "*   Is 16 divisible by 1? Of course! This is trivial. $16/1=16$.\n",
        "*   Is 16 divisible by 2? Yes. $16/2=8$.\n",
        "*   Is 16 divisible by 3? No. $16/3=5.33...$.\n",
        "*   Is 16 divisible by 4? Yes. $16/4=4$.\n",
        "*   Is 16 divisible by 5? No.\n",
        "\n",
        "Rather than divide 16 by 5, let's look at the calculation $5*5$. $5*5=25$, which is larger than 16. So, we know that *if* 16 were divisible by 5, the result of $16/5$ would need to be less than 5. If this were the case though, then we would already have that result as one of our listed factors. However, we did not have a case where 16 was divided by a number and resulted in 5. So, we *already knew* that 16 wasn't divisible by 5. All of the factors of 16 can be found by looking at our calculations when dividing by 1, 2, 3, and 4. $16/1=16$, so 1 and 16 are factors of 16. $16/2=8$, so 2 and 8 are factors of 16. $16/4=4$, so 4 is a factors of 16. This means that the factors of 16 are 1, 2, 4, 8, and 16. We can verify this with the code below."
      ],
      "metadata": {
        "id": "haeYRA0ODzGB"
      }
    },
    {
      "cell_type": "code",
      "source": [
        "get_factors(16)"
      ],
      "metadata": {
        "colab": {
          "base_uri": "https://localhost:8080/"
        },
        "id": "NzSd_JwnK4fy",
        "outputId": "bd6b7fd7-ad96-4f27-c426-c54a2a0fc4fb"
      },
      "execution_count": 18,
      "outputs": [
        {
          "output_type": "execute_result",
          "data": {
            "text/plain": [
              "[1, 2, 4, 8, 16]"
            ]
          },
          "metadata": {},
          "execution_count": 18
        }
      ]
    },
    {
      "cell_type": "markdown",
      "source": [
        "To reiterate, when a number $n$ is factored into 2 numbers $a$ and $b$, where $a\\geq b$, the maximum value for $b$ is $\\sqrt{n}$. If it were any larger, $a*b$ would be greater than $n$ (and thus, not factors of $n$).\n",
        "\n",
        "Given this knowledge about the factors of numbers, we can define a new function for determining whether a number is prime or not. This new function will be very similar to the first but will only need to check if the numbers $2,...,\\sqrt{n}$ are factors of $n$. If none of these numbers are factors of $n$, then $n$ is prime."
      ],
      "metadata": {
        "id": "wT_rZojCK-J4"
      }
    },
    {
      "cell_type": "code",
      "source": [
        "# get the sqrt and floor functions from the math library\n",
        "from math import sqrt, floor\n",
        "\n",
        "def is_prime_v2(x):\n",
        "  # 0 and 1 are special cases, if x is 0 or 1\n",
        "  # then we know it isn't prime\n",
        "  if x==0 or x==1:\n",
        "    return False\n",
        "  # check all natural numbers 2,..., sqrt(x)\n",
        "  # to see if they are a factor of x\n",
        "  for i in range(2, floor(sqrt(x))+1):\n",
        "    # if i is a factor of x, then x is not prime\n",
        "    if x%i==0:\n",
        "      return False\n",
        "  # if x has no factors 2,..., sqrt(x),\n",
        "  # then x is prime\n",
        "  return True"
      ],
      "metadata": {
        "id": "TkhxLMAqPLSG"
      },
      "execution_count": 19,
      "outputs": []
    },
    {
      "cell_type": "markdown",
      "source": [
        "Note that the function above takes the \"floor\" of the square root. This is because our number is most likely not a perfect square. In this case, we are only interested in the number *before* the decimal, and this is exactly what the floor function gives us. Having made this one small change, our function has just become much more efficient. Let's see how much quicker we can now check if 232,654,931 is prime."
      ],
      "metadata": {
        "id": "-7aZtdnDPr13"
      }
    },
    {
      "cell_type": "code",
      "source": [
        "# try changing the value to determine if\n",
        "# other numbers are prime or not\n",
        "is_prime_v2(232654931)"
      ],
      "metadata": {
        "colab": {
          "base_uri": "https://localhost:8080/"
        },
        "id": "xNHFazt4QIh9",
        "outputId": "3b6540c0-87d1-440f-fc76-d9d7a6036a48"
      },
      "execution_count": 20,
      "outputs": [
        {
          "output_type": "execute_result",
          "data": {
            "text/plain": [
              "True"
            ]
          },
          "metadata": {},
          "execution_count": 20
        }
      ]
    },
    {
      "cell_type": "markdown",
      "source": [
        "This calculation is much quicker, but does our function *really* work? Without a mathematical proof, it is difficult to make this claim. However, we can test that it works as expected on some examples."
      ],
      "metadata": {
        "id": "fyq91BumQ51C"
      }
    },
    {
      "cell_type": "code",
      "source": [
        "is_prime(35)"
      ],
      "metadata": {
        "colab": {
          "base_uri": "https://localhost:8080/"
        },
        "id": "j2fiKrcyRPxc",
        "outputId": "7e7e8afa-ccca-41af-822c-480853ccdb97"
      },
      "execution_count": 21,
      "outputs": [
        {
          "output_type": "execute_result",
          "data": {
            "text/plain": [
              "False"
            ]
          },
          "metadata": {},
          "execution_count": 21
        }
      ]
    },
    {
      "cell_type": "code",
      "source": [
        "is_prime_v2(35)"
      ],
      "metadata": {
        "colab": {
          "base_uri": "https://localhost:8080/"
        },
        "id": "V-ANJExKRV3f",
        "outputId": "1ace4bc8-e768-4bc6-92bb-fa019a20306c"
      },
      "execution_count": 22,
      "outputs": [
        {
          "output_type": "execute_result",
          "data": {
            "text/plain": [
              "False"
            ]
          },
          "metadata": {},
          "execution_count": 22
        }
      ]
    },
    {
      "cell_type": "markdown",
      "source": [
        "We can do some more checks, but we can just check that the output of both functions is equivalent."
      ],
      "metadata": {
        "id": "wrV8et-5R-_W"
      }
    },
    {
      "cell_type": "code",
      "source": [
        "# the output of this will tell us if the functions\n",
        "# both return the same value\n",
        "# if they do, then True will be returned\n",
        "# if they don't, then False will be returned\n",
        "is_prime(42)==is_prime_v2(42)"
      ],
      "metadata": {
        "colab": {
          "base_uri": "https://localhost:8080/"
        },
        "id": "S6S79HTMSKbi",
        "outputId": "f8c5e8f3-afc5-484c-df8e-1cde7345a29f"
      },
      "execution_count": 23,
      "outputs": [
        {
          "output_type": "execute_result",
          "data": {
            "text/plain": [
              "True"
            ]
          },
          "metadata": {},
          "execution_count": 23
        }
      ]
    },
    {
      "cell_type": "code",
      "source": [
        "is_prime(67)==is_prime_v2(67)"
      ],
      "metadata": {
        "colab": {
          "base_uri": "https://localhost:8080/"
        },
        "id": "2S2hTNaGSgvG",
        "outputId": "e90b32a7-46bc-4ee7-cdf4-64d118bb4dca"
      },
      "execution_count": 24,
      "outputs": [
        {
          "output_type": "execute_result",
          "data": {
            "text/plain": [
              "True"
            ]
          },
          "metadata": {},
          "execution_count": 24
        }
      ]
    },
    {
      "cell_type": "code",
      "source": [
        "is_prime(126)==is_prime_v2(126)"
      ],
      "metadata": {
        "colab": {
          "base_uri": "https://localhost:8080/"
        },
        "id": "rxn-30CISppM",
        "outputId": "93dd5339-5481-4647-bc15-55870eb5d8b1"
      },
      "execution_count": 25,
      "outputs": [
        {
          "output_type": "execute_result",
          "data": {
            "text/plain": [
              "True"
            ]
          },
          "metadata": {},
          "execution_count": 25
        }
      ]
    },
    {
      "cell_type": "markdown",
      "source": [
        "Again, this is by no means a hard proof of the concept, but rather, a few small examples that is working like it should. This will conclude the section on prime numbers and factoring. More efficient algorithms for checking primality exist, but those will not be covered here. We will now move on to a practical application of prime numbers."
      ],
      "metadata": {
        "id": "BjvIosqPSu9g"
      }
    },
    {
      "cell_type": "markdown",
      "source": [
        "# RSA Encryption\n",
        "At some point, one must ask the question, \"what's so special about prime numbers\"? This is a valid question. Mathematically, there are many aspects of prime numbers that make them \"special\". Still, is there any *practical* use for them? Well, actually, yes! In computer science, prime numbers are very important. Encryption algorithms, like RSA (which we will discuss soon), rely on prime numbers to keep information private. Without encryption, your passwords, messages, bank account info, and anything else you have that is accessed over the internet could easily be seen by anyone. Seeing how valuable this is, let's look at the RSA algorithm to see how prime numbers can keep your information safe.\n",
        "\n",
        "The information regarding RSA encryption discussed here is based off of the explanation found at https://brilliant.org/wiki/rsa-encryption/. Suppose you wish to send a message to your friend, but there is a possibility that someone who shouldn't read it could (perhaps you are sending the message by paper airplane and they snatch it out of the air?). If you send this message as is, then anyone who gets their hands on it will be able to read it. You need a secret code. How do you set it up though? First, your friend needs to create a code that is made up of 2 parts. There is the public code that anyone can see, and there is the private code that only your friend can see. Your friend sends you this public code (and also keeps a copy of it for themself). When you get this code, you can use it to encode your message and send it back to your friend. With your message encoded, it doesn't matter it someone else sees it. In fact, it doesn't even matter if they see the public code. When your friend gets the message, they can use their private code to decode it. In this way, they are the only person who knows what you wrote.\n",
        "\n",
        "This is essentially what occurs when RSA encryption is used. However, the \"codes\" are actually referred to as keys. So, how do we create them? Let's start with the public key. To create the public key, we need:\n",
        "*   2 prime numbers, $p$ and $q$. They are supposed to be large (often larger than $2^{256}$). However, in the examples we will use smaller numbers for $p$ and $q$.\n",
        "*   $p$ and $q$ are used to calculate $n=p*q$.\n",
        "*   A value $\\phi(pq)=(p-1)(q-1)$ is calculated, and a number $e$ that is relatively prime to $\\phi(pq)$ is chosen.\n",
        " *  For 2 numbers to be \"relatively prime\", the GCD of the 2 numbers must be 1.\n",
        "\n",
        "From these values, $n$ and $e$ are the public key and are visible to anyone. What about the private key? How do we get that? We already have all of the components needed. Using $e$ and $\\phi(pq)$, we can calculate a value $d$. This will be the private key. Before calculating $d$, let's cover a few concepts:\n",
        "*   As discussed previously, the % operator gives us the remainder of a division. This operator is known as the **modular** operator. In mathematical notation, we would write something like 12%5=2 as $5\\equiv2(mod 12)$. This means that the number 5 is equivalent to taking 2 (mod 12) (as 2%12=2). Given this knowledge, we can find something known as the **modular inverse**.\n",
        "*   If we have some value $a (mod n)$, then the modular inverse of this is $x$ where $a*x\\equiv 1 (mod n)$ https://www.khanacademy.org/computing/computer-science/cryptography/modarithmetic/a/modular-inverses. This modular inverse will be our value $d$.\n",
        "\n",
        "With the knowledge of what we are calculating, we can now obtain $d$. The equation for this calculation is $de\\equiv1(mod\\phi(pq))$. Since $\\phi(pq)$ is not known to the public, $d$ is secure. Below is a simple algorithm that can compute a modular inverse for us. It should be noted that this works as expected due to the nature of the numbers used for the algorithm, particularly the fact that $e$ is relatively prime to $\\phi(pq)$."
      ],
      "metadata": {
        "id": "CkX5gGIcTXDZ"
      }
    },
    {
      "cell_type": "code",
      "source": [
        "# function to calculate the modular inverse of\n",
        "# a (mod n)\n",
        "def mod_inverse(a, n):\n",
        "  # check each value in range 1 to n-1\n",
        "  # to see if it is the modular inverse\n",
        "  for i in range(1, n):\n",
        "    # if this equation is satisfied, i is\n",
        "    # the modular inverse and should be returned\n",
        "    if (a*i)%n == 1:\n",
        "      return i"
      ],
      "metadata": {
        "id": "uS8fNVDNtbN_"
      },
      "execution_count": 26,
      "outputs": []
    },
    {
      "cell_type": "markdown",
      "source": [
        "With our new function, let's try finding a modular inverse!"
      ],
      "metadata": {
        "id": "ivcBqnSiulad"
      }
    },
    {
      "cell_type": "code",
      "source": [
        "# 3 and 7 are both prime, so a modular inverse\n",
        "# should exist (and there should be only 1)\n",
        "#\n",
        "# try changing the values to see if a modular inverse\n",
        "# exists (and what it is)\n",
        "# NOTE: since this function assumes the numbers are\n",
        "# relatively prime, some combinations of numbers could\n",
        "# have more than one modular inverse, but only the first\n",
        "# one found will be returned\n",
        "mod_inverse(3, 7)"
      ],
      "metadata": {
        "colab": {
          "base_uri": "https://localhost:8080/"
        },
        "id": "awgol8fNuiUg",
        "outputId": "e86739bc-653c-4a4b-874b-1c60ef5bca79"
      },
      "execution_count": 27,
      "outputs": [
        {
          "output_type": "execute_result",
          "data": {
            "text/plain": [
              "5"
            ]
          },
          "metadata": {},
          "execution_count": 27
        }
      ]
    },
    {
      "cell_type": "markdown",
      "source": [
        "Let's verify."
      ],
      "metadata": {
        "id": "45FFWatVvIm1"
      }
    },
    {
      "cell_type": "code",
      "source": [
        "5*3%7"
      ],
      "metadata": {
        "colab": {
          "base_uri": "https://localhost:8080/"
        },
        "id": "7242F7-kvL3C",
        "outputId": "06b33667-f873-416c-a571-c8c54d443748"
      },
      "execution_count": 28,
      "outputs": [
        {
          "output_type": "execute_result",
          "data": {
            "text/plain": [
              "1"
            ]
          },
          "metadata": {},
          "execution_count": 28
        }
      ]
    },
    {
      "cell_type": "markdown",
      "source": [
        "$5*3\\equiv1(mod7)$, so our function returned the correct answer! We could produce a more efficient function for this calculation, but for our purposes, the efficiency of the algorithm will not be an issue.\n",
        "\n",
        "We now have the information necessary to develop a simple algorithm for creating public and private RSA keys. Since this algorithm is being used for demonstrative purposes, it will not use large numbers. The values $p$ and $q$ will be randomly chosen from a list of primes between 11 and 97. The value for $e$ will be 101 as it must be relatively prime to $\\phi(pq)$ since $p$ and $q$ are both smaller than 101 and 101 is prime. This algorithm is by no means secure, but it will demonstrate the basic concept of RSA encryption."
      ],
      "metadata": {
        "id": "hnt4TaH6vPeo"
      }
    },
    {
      "cell_type": "code",
      "source": [
        "# import random library for random selection of primes\n",
        "import random\n",
        "def RSA_keys():\n",
        "  # list of prime options for p and q\n",
        "  primes = [11, 13, 17, 19, 23, 29, 31, 37, 41, 43, 47, 53, 59, 61,\n",
        "            67, 71, 73, 79, 83, 89, 97]\n",
        "  # choose a random prime for p\n",
        "  p = random.choice(primes)\n",
        "  # remove this choice from primes so p won't be equal to q\n",
        "  primes.remove(p)\n",
        "  # choose a random prime for q\n",
        "  q = random.choice(primes)\n",
        "  # set e to 101\n",
        "  e = 101\n",
        "  # calculate n\n",
        "  n = p*q\n",
        "  # store n and e in the public key array\n",
        "  public_key = [n, e]\n",
        "  # calculate (p-1)(q-1)\n",
        "  m = (p-1)*(q-1)\n",
        "  # get the modular inverse of e (mod m) and save it as d (the private key)\n",
        "  d = mod_inverse(e, m)\n",
        "  # return the public and private keys\n",
        "  return public_key, d"
      ],
      "metadata": {
        "id": "sSzFiJ4T07H5"
      },
      "execution_count": 29,
      "outputs": []
    },
    {
      "cell_type": "markdown",
      "source": [
        "We'll give the algorithm a quick test."
      ],
      "metadata": {
        "id": "6IDWAnjw6MHC"
      }
    },
    {
      "cell_type": "code",
      "source": [
        "RSA_keys()"
      ],
      "metadata": {
        "colab": {
          "base_uri": "https://localhost:8080/"
        },
        "id": "z9Ji9wJL1h9b",
        "outputId": "97ea256c-9890-480a-caf7-e255be5e861c"
      },
      "execution_count": 30,
      "outputs": [
        {
          "output_type": "execute_result",
          "data": {
            "text/plain": [
              "([3071, 101], 2309)"
            ]
          },
          "metadata": {},
          "execution_count": 30
        }
      ]
    },
    {
      "cell_type": "markdown",
      "source": [
        "Now that we know the key generation works, we can move on to discussing how the send an encrypted message (and how to decrypt it). For our purposes, we will assume that the message will only contain upper and lower case letters. This is a problem though. If we are using numbers to encrypt and decrypt messages, then how can we send messages with letters? The answer: ASCII encoding. All letters are already encoded as numbers in computer systems where A=65, B=66,..., Z=90,..., a=97, b=98,..., and z=122. By dealing with our letters in their ASCII encoding, we can use RSA to encrypt our messages.\n",
        "\n",
        "Now, to send a message we need to use the public key ($n$ and $e$) which has been provided to us. First, we need to know how much of the message can be sent at a time. Since $n$ can be as small as $11*13=143$, our message, which we will call $m$, must be sent one letter at a time. The reason behind this is that $m< n$ must be true. Our chosen ASCII values can be as high as 127, so a single letter will always be less than $n$ in our message. So, now that we know the limitations, let's find out how to encrypt our message.\n",
        "*   Given our message (letter) $m$, we need to raise its ASCII value to the power of $e$. We then use the modular operator with the value $n$ to get our encrypted value. Thus, we have an equation $c\\equiv m^e(mod n)$ where $c$ is our encrypted value. This is what we will send as our message.\n",
        " *  As an example, suppose we wish to send the letter 'a'. We take the ASCII code for a, which is 97. Our value for $e$ is 101, $p=11$, $q=13$, and our value for $n$ is 143. We then calculate $m^e=97^{101}\\equiv 119(mod 143)$. Thus, our encrypted letter is 119. This encrypted message could potentially be seen by anyone.\n",
        "\n",
        "With the ability to encrypt the message, let's now look at how to decrypt it. This requires the use of the private key ($d$). The decryption is as follows:\n",
        "*   We raise our encrypted message $c$ to the power of $d$. With this, we can then calculate $m\\equiv c(mod n)$. This $m$ is the same value that was encrypted before, so we have decrypted the message and gotten the original message!\n",
        " *  In the encryption example, we got a value $c=119$. We had values of $e=101$, $p=11$, $q=13$, and $n=143$. Using this information, we can compute $d$. Remembering that $de\\equiv1(mod\\phi(pq))$, we can find $d=101$. So, $101*101=10201\\equiv1(mod120)$. We can now use $d=101$ to decrypt our message: $c^d=119^{101}\\equiv 97(mod143)$. This is exactly the message we had encrypted, so we have obtained the original message! It should be noted that in this example $d$ and $e$ were the same value. This is, of course, not very secure. However, this is not typically the case, especially when dealing with larger values for $p$, $q$, and $e$.\n",
        "\n",
        "Now that we know how to encrypt and decrypt messages, lets look at functions which do this for us."
      ],
      "metadata": {
        "id": "eoAtNzO16P82"
      }
    },
    {
      "cell_type": "code",
      "source": [
        "# a function, which, given a message m, and\n",
        "# a public key n and e, encrypts the message\n",
        "def encrypt(m, n, e):\n",
        "  # return the result of m^e (mod n)\n",
        "  return m**e%n\n",
        "\n",
        "# a function, which, given an encrypted message c,\n",
        "# a public key n, and a private key d,\n",
        "# decrypts the message\n",
        "def decrypt(c, n, d):\n",
        "  # return the result of c^d (mod n)\n",
        "  return c**d%n"
      ],
      "metadata": {
        "id": "_DmyQR4tjfwQ"
      },
      "execution_count": 31,
      "outputs": []
    },
    {
      "cell_type": "markdown",
      "source": [
        "Let's test this using our example from before."
      ],
      "metadata": {
        "id": "bOH-pdcslXmQ"
      }
    },
    {
      "cell_type": "code",
      "source": [
        "# try changing m to different values\n",
        "# between 65 and 122 to test out the functions\n",
        "m = 97\n",
        "n = 143\n",
        "e = 101\n",
        "secret_message = encrypt(m, n, e)\n",
        "secret_message"
      ],
      "metadata": {
        "colab": {
          "base_uri": "https://localhost:8080/"
        },
        "id": "COkELUgrlXN9",
        "outputId": "efc3cdc2-3b75-4b9e-c395-3782a194cdc4"
      },
      "execution_count": 32,
      "outputs": [
        {
          "output_type": "execute_result",
          "data": {
            "text/plain": [
              "119"
            ]
          },
          "metadata": {},
          "execution_count": 32
        }
      ]
    },
    {
      "cell_type": "code",
      "source": [
        "d = 101\n",
        "decrypt(secret_message, n, d)"
      ],
      "metadata": {
        "colab": {
          "base_uri": "https://localhost:8080/"
        },
        "id": "t9Yhh6EtmKyS",
        "outputId": "38c4a65f-5ccb-4afc-a0b9-167d67d68694"
      },
      "execution_count": 33,
      "outputs": [
        {
          "output_type": "execute_result",
          "data": {
            "text/plain": [
              "97"
            ]
          },
          "metadata": {},
          "execution_count": 33
        }
      ]
    },
    {
      "cell_type": "markdown",
      "source": [
        "Building upon the functions that we've already created, let's look at creating new functions for encryption and decryption that allow us to work with whole messages instead of single letters."
      ],
      "metadata": {
        "id": "voWWWwdxmpDM"
      }
    },
    {
      "cell_type": "code",
      "source": [
        "# function that, given a message m of any length consisting of letters\n",
        "# and the public key n and e, encrypts the message m\n",
        "def encrypt_messsage(m, n, e):\n",
        "  # seperate m into its characters\n",
        "  msg = list(m)\n",
        "  # encrypt each letter in ASCII separately\n",
        "  for i in range(len(msg)):\n",
        "    # encrypt the ASCII encoding of each letter\n",
        "    # ord() converts a character into ASCII\n",
        "    msg[i] = encrypt(ord(msg[i]), n, e)\n",
        "  # return the encrypted message\n",
        "  return msg\n",
        "\n",
        "# function that, given an encrypted message c of any length, a public key n,\n",
        "# and a private key d, decrypts the message\n",
        "def decrypt_message(c, n, d):\n",
        "  # create new array for decrypted message\n",
        "  c2 = []\n",
        "  # decrypt each part of the message\n",
        "  for i in range(len(c)):\n",
        "    # decrypt each number, then convert back into a letter\n",
        "    # chr() converts an ASCII encoding into a character\n",
        "    c2.append(chr(decrypt(c[i], n, d)))\n",
        "  # convert message back into a string from list\n",
        "  msg = ''.join(str(x) for x in c2)\n",
        "  # return the decrypted message\n",
        "  return msg"
      ],
      "metadata": {
        "id": "D_UWju2jmV8Y"
      },
      "execution_count": 34,
      "outputs": []
    },
    {
      "cell_type": "markdown",
      "source": [
        "Now we can test these functions out using our previously defined values for n, e, and d."
      ],
      "metadata": {
        "id": "7Ux6EBwECZZx"
      }
    },
    {
      "cell_type": "code",
      "source": [
        "m = 'Hello World'\n",
        "n = 143\n",
        "e = 101\n",
        "secret_message = encrypt_messsage(m, n, e)\n",
        "secret_message"
      ],
      "metadata": {
        "colab": {
          "base_uri": "https://localhost:8080/"
        },
        "id": "6L7SwXzbCgJs",
        "outputId": "09794b5c-2fe2-4fbb-b23b-3bd5c2c65e6a"
      },
      "execution_count": 35,
      "outputs": [
        {
          "output_type": "execute_result",
          "data": {
            "text/plain": [
              "[50, 134, 75, 75, 89, 54, 120, 89, 4, 75, 133]"
            ]
          },
          "metadata": {},
          "execution_count": 35
        }
      ]
    },
    {
      "cell_type": "code",
      "source": [
        "d = 101\n",
        "decrypt_message(secret_message, n, d)"
      ],
      "metadata": {
        "colab": {
          "base_uri": "https://localhost:8080/",
          "height": 36
        },
        "id": "fOAhEqdJCy5R",
        "outputId": "b049a5ff-13a1-47aa-8db7-c70bc2786011"
      },
      "execution_count": 36,
      "outputs": [
        {
          "output_type": "execute_result",
          "data": {
            "text/plain": [
              "'Hello World'"
            ],
            "application/vnd.google.colaboratory.intrinsic+json": {
              "type": "string"
            }
          },
          "metadata": {},
          "execution_count": 36
        }
      ]
    },
    {
      "cell_type": "markdown",
      "source": [
        "It works! We have just successfully encrypted and decrypted a message. Now we can use our function for creating RSA keys to try encrypting with different values of n, e, and d."
      ],
      "metadata": {
        "id": "65bqdMObDeUv"
      }
    },
    {
      "cell_type": "code",
      "source": [
        "# generate new keys\n",
        "pub_keys, d = RSA_keys()\n",
        "n = pub_keys[0]\n",
        "e = pub_keys[1]\n",
        "# display new keys\n",
        "print(f\"n:{n}\\ne:{e}\\nd:{d}\")"
      ],
      "metadata": {
        "colab": {
          "base_uri": "https://localhost:8080/"
        },
        "id": "9bj3gm1jD1ZE",
        "outputId": "1d8fccac-e508-485f-e3ad-f8902c1bed3d"
      },
      "execution_count": 37,
      "outputs": [
        {
          "output_type": "stream",
          "name": "stdout",
          "text": [
            "n:2537\n",
            "e:101\n",
            "d:1013\n"
          ]
        }
      ]
    },
    {
      "cell_type": "code",
      "source": [
        "# try changing the value of m and rerunning these cells\n",
        "m = 'secret message'\n",
        "secret_message = encrypt_messsage(m, n, e)\n",
        "secret_message"
      ],
      "metadata": {
        "colab": {
          "base_uri": "https://localhost:8080/"
        },
        "id": "SsEPltlbEcaF",
        "outputId": "9e562aa2-6dfa-4f36-809e-d51f05020668"
      },
      "execution_count": 38,
      "outputs": [
        {
          "output_type": "execute_result",
          "data": {
            "text/plain": [
              "[220, 40, 1572, 89, 40, 277, 2453, 1691, 40, 220, 220, 2148, 238, 40]"
            ]
          },
          "metadata": {},
          "execution_count": 38
        }
      ]
    },
    {
      "cell_type": "code",
      "source": [
        "# try replacing d with another number and see what is returned\n",
        "decrypt_message(secret_message, n, d)"
      ],
      "metadata": {
        "colab": {
          "base_uri": "https://localhost:8080/",
          "height": 36
        },
        "id": "thhxosDCFbXT",
        "outputId": "476d312c-6e50-4bcf-87b3-9c17155b1c63"
      },
      "execution_count": 39,
      "outputs": [
        {
          "output_type": "execute_result",
          "data": {
            "text/plain": [
              "'secret message'"
            ],
            "application/vnd.google.colaboratory.intrinsic+json": {
              "type": "string"
            }
          },
          "metadata": {},
          "execution_count": 39
        }
      ]
    },
    {
      "cell_type": "markdown",
      "source": [
        "That's the RSA encryption algorithm! Well, it's a basic implementation of it. We can break this quite easily for 2 reasons. First, small numbers were used for $p$ and $q$. This means that we can easily factor $n$ and find $p$ and $q$. The combination of knowing $p$, $q$ and $e$ means that we can easily find $d$ and decrypt the message. The second reason our implementation is so easy to break is that only one letter is encrypted at a time. This also has to do with the size of $p$ and $q$, but only needing to guess one letter means its pretty easy to keep encrypting letters until you've found the encryption values for all characters. We will next look at exploiting both of these vulnerabilities to demonstrate the importance of using big $p$ and $q$ values. We can start with factoring $n$."
      ],
      "metadata": {
        "id": "aPTvGrjdISKm"
      }
    },
    {
      "cell_type": "code",
      "source": [
        "# given an encrypted message, n, and e, we will decrypt the message\n",
        "encrypted_msg = [69, 161, 148, 2, 49, 224]\n",
        "n = 323\n",
        "e = 101\n",
        "# factor n to find p and q\n",
        "n_factors = get_factors(n)\n",
        "# there will be 4 factors, p and q are the second and third\n",
        "p = n_factors[1]\n",
        "q = n_factors[2]\n",
        "# now that we know the factors, calculate d\n",
        "d = mod_inverse(e, (p-1)*(q-1))\n",
        "# we now have the private key\n",
        "# extract information from message\n",
        "decrypt_message(encrypted_msg, n, d)"
      ],
      "metadata": {
        "colab": {
          "base_uri": "https://localhost:8080/",
          "height": 36
        },
        "id": "CWJAgrQvKE6J",
        "outputId": "b07a5dda-ff2f-4973-f6e1-8da8eef32d25"
      },
      "execution_count": 40,
      "outputs": [
        {
          "output_type": "execute_result",
          "data": {
            "text/plain": [
              "'got ya'"
            ],
            "application/vnd.google.colaboratory.intrinsic+json": {
              "type": "string"
            }
          },
          "metadata": {},
          "execution_count": 40
        }
      ]
    },
    {
      "cell_type": "markdown",
      "source": [
        "That's all there is to it. If we can factor $n$, then we can calculate $d$. Thus, it's important that $p$ and $q$ be large so that it becomes more difficult to factor $n$. Next, we will look at decrypting the message by brute force. In this case, brute force means calculating the encryption of letters until we have found which letter the encrypted value is associated with."
      ],
      "metadata": {
        "id": "ziXdTLFbP7wx"
      }
    },
    {
      "cell_type": "code",
      "source": [
        "# store decrypted values in a list\n",
        "decrypted_msg = []\n",
        "# for each value in the encrypted message, calculate the encrypion of different\n",
        "# letters until they match the encrypted message\n",
        "#\n",
        "# even though our letters are only in the range 65-122, some characters,\n",
        "# like space, are outside that range\n",
        "# there are 128 basic ASCII encodings\n",
        "for j in encrypted_msg:\n",
        "  for i in range(128):\n",
        "    # if the encryption of the ASCII code i matches the encrypted number j,\n",
        "    # then save this value to the list as a character\n",
        "    if encrypt(i, n, e) == j:\n",
        "      decrypted_msg.append(chr(i))\n",
        "# convert list to string\n",
        "''.join(str(x) for x in decrypted_msg)"
      ],
      "metadata": {
        "colab": {
          "base_uri": "https://localhost:8080/",
          "height": 36
        },
        "id": "52xZGicSP5PW",
        "outputId": "fafaca68-5001-42cd-dfbb-709a81ff4499"
      },
      "execution_count": 41,
      "outputs": [
        {
          "output_type": "execute_result",
          "data": {
            "text/plain": [
              "'got ya'"
            ],
            "application/vnd.google.colaboratory.intrinsic+json": {
              "type": "string"
            }
          },
          "metadata": {},
          "execution_count": 41
        }
      ]
    },
    {
      "cell_type": "markdown",
      "source": [
        "Just like that, we have decrypted the message without even needing the public key! This process would become much more difficult if the message was allowed to be many characters long. This adds security by removing our knowledge of how the characters are combined and how many characters there are. Thus, such a brute force attack as shown above becomes much harder to perform.\n",
        "\n",
        "\n",
        "So, now we know that we need large $p$ and $q$ values for security. However, why do they need to be prime? Can't we just use 2 random numbers $p$ and $q$? Finding an answer to this is difficult. It cannot be definitely stated here that they cannot be prime, but the algorithm is designed in such a way that assumes they are. The main advantage which this provides is that $n$ will only have 2 factors other than 1 and itself. If we begin to factor $n$ and realize that 24 is a factor, then we also determine that 2, 3, 4, 6, 8, and 12 are factors. This means that we have more candidates for $p$ and $q$, but knowing more factors gives us the ability to find other factors. Thus, we could potentially find the factors $p$ and $q$ more quickly. However, this is just a hypothesis. Regardless, prime numbers have been able to make encryption possible.\n",
        "\n",
        "This brings an end to this discussion on prime numbers and their use. Hopefully you have been able to obtain a better understanding of primes and how they are used in real world applications"
      ],
      "metadata": {
        "id": "2fI1G15-Tbyg"
      }
    }
  ]
}